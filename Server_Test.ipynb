{
 "cells": [
  {
   "cell_type": "code",
   "execution_count": 1,
   "metadata": {},
   "outputs": [],
   "source": [
    "import os\n",
    "import nussl"
   ]
  },
  {
   "cell_type": "code",
   "execution_count": 2,
   "metadata": {},
   "outputs": [
    {
     "name": "stdout",
     "output_type": "stream",
     "text": [
      "File removed.\n",
      "File removed.\n",
      "File removed.\n"
     ]
    }
   ],
   "source": [
    "# define filenames\n",
    "audio_name = 'K0140.wav'\n",
    "model_name = 'deep_clustering_vocal_44k_long.model'\n",
    "benchmark_name = 'benchmark.npy'\n",
    "\n",
    "# remove old files\n",
    "try: \n",
    "    os.remove(os.path.expanduser('~/.nussl/audio/' + audio_name))\n",
    "    print(\"File removed.\")\n",
    "except:\n",
    "    print(\"File not found.\")\n",
    "\n",
    "try: \n",
    "    os.remove(os.path.expanduser('~/.nussl/models/' + model_name))\n",
    "    print(\"File removed.\")\n",
    "except:\n",
    "    print(\"File not found.\")\n",
    "    \n",
    "try:\n",
    "    os.remove(os.path.expanduser('~/.nussl/benchmarks/' + benchmark_name))\n",
    "    print(\"File removed.\")\n",
    "except:\n",
    "    print(\"File not found.\")\n"
   ]
  },
  {
   "cell_type": "code",
   "execution_count": 3,
   "metadata": {},
   "outputs": [
    {
     "name": "stdout",
     "output_type": "stream",
     "text": [
      "Saving file at /Users/DJBK/.nussl/audio/K0140.wav\n",
      "Downloading K0140.wav from http://nussl.ci.northwestern.edu/static/nussl/audio/K0140.wav\n",
      "K0140.wav...100%\n",
      "\n",
      "\n",
      "Saving file at /Users/DJBK/.nussl/benchmarks/benchmark.npy\n",
      "Downloading benchmark.npy from http://nussl.ci.northwestern.edu/static/nussl/benchmarks/benchmark.npy\n",
      "\n",
      "\n",
      "\n",
      "Saving file at /Users/DJBK/.nussl/models/deep_clustering_vocal_44k_long.model\n",
      "Downloading deep_clustering_vocal_44k_long.model from http://nussl.ci.northwestern.edu/static/nussl/trained_models/deep_clustering_vocal_44k_long.model\n",
      "deep_clustering_vocal_44k_long.model...100%\n",
      "\n",
      "\n",
      "Audio file found: True\n",
      "Benchmark file found: True\n",
      "Model file found: True\n",
      "\n"
     ]
    }
   ],
   "source": [
    "# download audio file\n",
    "audio_path = nussl.utils.get_audio_example(audio_name)\n",
    "audio_exists = os.path.isfile(audio_path)\n",
    "\n",
    "# download benchmark file\n",
    "benchmark_path = nussl.utils.get_benchmark_file(benchmark_name)\n",
    "benchmark_exists = os.path.isfile(benchmark_path)\n",
    "\n",
    "# download model file (will take a while)\n",
    "model_path = nussl.utils.get_trained_model(model_name)\n",
    "model_exists = os.path.isfile(model_path)\n",
    "\n",
    "print(\"Audio file found: {}\\nBenchmark file found: {}\\nModel file found: {}\\n\".format(audio_exists, \n",
    "                                                                                      benchmark_exists, \n",
    "                                                                                      model_exists))\n",
    "\n"
   ]
  },
  {
   "cell_type": "code",
   "execution_count": null,
   "metadata": {},
   "outputs": [],
   "source": []
  }
 ],
 "metadata": {
  "kernelspec": {
   "display_name": "Python 2",
   "language": "python",
   "name": "python2"
  },
  "language_info": {
   "codemirror_mode": {
    "name": "ipython",
    "version": 2
   },
   "file_extension": ".py",
   "mimetype": "text/x-python",
   "name": "python",
   "nbconvert_exporter": "python",
   "pygments_lexer": "ipython2",
   "version": "2.7.13"
  }
 },
 "nbformat": 4,
 "nbformat_minor": 2
}
